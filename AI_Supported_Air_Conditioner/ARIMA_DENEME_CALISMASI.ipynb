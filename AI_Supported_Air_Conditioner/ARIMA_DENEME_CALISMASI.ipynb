{
 "cells": [
  {
   "cell_type": "code",
   "execution_count": 1,
   "id": "83f40fec-d210-47c7-8859-2cc3d017675e",
   "metadata": {},
   "outputs": [
    {
     "name": "stdout",
     "output_type": "stream",
     "text": [
      "             Timestamp  Temperature (°C)\n",
      "0  2025-01-01 00:00:00         -7.421593\n",
      "1  2025-01-01 00:15:00         -7.789700\n",
      "2  2025-01-01 00:30:00         -6.701143\n",
      "3  2025-01-01 00:45:00         -5.612274\n",
      "4  2025-01-01 01:00:00         -6.320769\n"
     ]
    }
   ],
   "source": [
    "import pandas as pd\n",
    "\n",
    "# CSV dosyasının yolu (dosya konumunu buraya yaz)\n",
    "csv_path = \"C:\\\\Users\\\\90545\\\\OneDrive\\\\Masaüstü\\\\LESSONS\\\\BITIRMEPROJESI\\\\ankara_temperature_2025.csv\"\n",
    "\n",
    "# CSV dosyasını oku\n",
    "df = pd.read_csv(csv_path)\n",
    "\n",
    "# İlk 5 satırı görüntüle\n",
    "print(df.head())"
   ]
  },
  {
   "cell_type": "code",
   "execution_count": 3,
   "id": "12059edb-5a1e-4df6-a148-74c7069ccc9b",
   "metadata": {},
   "outputs": [
    {
     "name": "stdout",
     "output_type": "stream",
     "text": [
      "Tahmin: [16.00324689]\n"
     ]
    },
    {
     "name": "stderr",
     "output_type": "stream",
     "text": [
      "C:\\Users\\90545\\anaconda3\\Lib\\site-packages\\statsmodels\\tsa\\statespace\\sarimax.py:978: UserWarning: Non-invertible starting MA parameters found. Using zeros as starting parameters.\n",
      "  warn('Non-invertible starting MA parameters found.'\n"
     ]
    }
   ],
   "source": [
    "from statsmodels.tsa.arima.model import ARIMA\n",
    "import pandas as pd\n",
    "\n",
    "# Basit örnek veri (zaman serisi)\n",
    "data = [10, 12, 13, 15, 18, 20, 19, 17]\n",
    "\n",
    "# Model tanımı (p=2, d=1, q=1 gibi)\n",
    "model = ARIMA(data, order=(2, 1, 1))\n",
    "\n",
    "# Modeli eğit\n",
    "model_fit = model.fit()\n",
    "\n",
    "# Bir adım ileriye tahmin yap\n",
    "forecast = model_fit.forecast(steps=1)\n",
    "print(\"Tahmin:\", forecast)\n"
   ]
  },
  {
   "cell_type": "code",
   "execution_count": 9,
   "id": "6b0644a9-bed4-4966-bf6f-3d1b4a2358d8",
   "metadata": {},
   "outputs": [
    {
     "name": "stdout",
     "output_type": "stream",
     "text": [
      "Tahmin edilen sıcaklık (2025-01-01 01:15:00): -5.979713184989502\n",
      "Gerçek sıcaklık değeri: -6.320769173101823\n"
     ]
    }
   ],
   "source": [
    "import pandas as pd\n",
    "from statsmodels.tsa.arima.model import ARIMA\n",
    "\n",
    "# CSV dosyasını oku (yolu senin bilgisayarına göre güncelle)\n",
    "df = pd.read_csv(\"C:\\\\Users\\\\90545\\\\OneDrive\\\\Masaüstü\\\\LESSONS\\\\BITIRMEPROJESI\\\\ankara_temperature_2025.csv\", parse_dates=[\"Timestamp\"])\n",
    "\n",
    "# Sıcaklık sütununu al\n",
    "temps = df[\"Temperature (°C)\"].iloc[:5]\n",
    "\n",
    "# İlk 4 değeri model için kullan\n",
    "model = ARIMA(temps[:4], order=(2, 1, 0))\n",
    "model_fit = model.fit()\n",
    "\n",
    "# Bir sonraki değeri tahmin et\n",
    "forecast = model_fit.forecast(steps=1)\n",
    "print(\"Tahmin edilen sıcaklık (2025-01-01 01:15:00):\", forecast.iloc[0])\n",
    "\n",
    "# Gerçek değerle karşılaştır\n",
    "print(\"Gerçek sıcaklık değeri:\", temps.iloc[4])\n"
   ]
  },
  {
   "cell_type": "code",
   "execution_count": 19,
   "id": "b0147daf-0b76-4f3a-b513-15a20afea378",
   "metadata": {},
   "outputs": [
    {
     "name": "stdout",
     "output_type": "stream",
     "text": [
      "                     Predicted (°C)  Actual (°C)\n",
      "Timestamp                                       \n",
      "2025-01-05 00:00:00       -7.660737    -6.995472\n",
      "2025-01-05 00:15:00       -8.504368    -9.578730\n",
      "2025-01-05 00:30:00       -6.776692    -6.374668\n",
      "2025-01-05 00:45:00       -6.205233    -7.524282\n",
      "2025-01-05 01:00:00       -8.105248    -8.390936\n",
      "...                             ...          ...\n",
      "2025-12-31 22:45:00       -5.329708    -4.422674\n",
      "2025-12-31 23:00:00       -5.407373    -1.785367\n",
      "2025-12-31 23:15:00       -2.388450    -3.321656\n",
      "2025-12-31 23:30:00       -4.275490    -4.093892\n",
      "2025-12-31 23:45:00       -2.794480    -5.076525\n",
      "\n",
      "[34656 rows x 2 columns]\n"
     ]
    }
   ],
   "source": [
    "import pandas as pd\n",
    "from datetime import timedelta\n",
    "from sklearn.linear_model import LinearRegression\n",
    "import numpy as np\n",
    "\n",
    "# 1) Veriyi oku ve index’i Timestamp yap\n",
    "df = pd.read_csv(\n",
    "    \"C:\\\\Users\\\\90545\\\\OneDrive\\\\Masaüstü\\\\LESSONS\\\\BITIRMEPROJESI\\\\ankara_temperature_2025.csv\",\n",
    "    parse_dates=[\"Timestamp\"]\n",
    ")\n",
    "df = df.set_index(\"Timestamp\").sort_index()\n",
    "\n",
    "results = []\n",
    "\n",
    "# 2) Her bir timestamp için (4 gün gerisinden başlayarak) tahmin ve gerçek değeri hesapla\n",
    "for ts, row in df.iterrows():\n",
    "    # 2a) Henüz 4 tam gün geçmiş değilse atla\n",
    "    if ts - df.index[0] < timedelta(days=4):\n",
    "        continue\n",
    "\n",
    "    # 2b) Önceki 4 günün aynı saat-dakika ölçümlerini topla\n",
    "    X = []\n",
    "    y = []\n",
    "    ok = True\n",
    "    for days_ago in range(1, 5):  # 1,2,3,4 gün önce\n",
    "        past = (ts - timedelta(days=days_ago)).replace(\n",
    "            hour=ts.hour, minute=ts.minute,\n",
    "            second=0, microsecond=0\n",
    "        )\n",
    "        try:\n",
    "            y.append(df.at[past, \"Temperature (°C)\"])\n",
    "            X.append([days_ago])\n",
    "        except KeyError:\n",
    "            ok = False\n",
    "            break\n",
    "\n",
    "    if not ok:\n",
    "        # veri eksik; bu timestamp için tahmin atlanıyor\n",
    "        continue\n",
    "\n",
    "    # 2c) Lineer Regresyon modelini eğit ve tahmin yap\n",
    "    model = LinearRegression()\n",
    "    model.fit(np.array(X), np.array(y))\n",
    "    pred = model.predict(np.array([[0]]))[0]  # 0 gün önce = bugünün değeri\n",
    "\n",
    "    # 2d) Sonucu kaydet\n",
    "    results.append({\n",
    "        \"Timestamp\": ts,\n",
    "        \"Predicted (°C)\": pred,\n",
    "        \"Actual (°C)\": row[\"Temperature (°C)\"]\n",
    "    })\n",
    "\n",
    "# 3) Sonuçları DataFrame’e çevir ve yazdır\n",
    "res_df = pd.DataFrame(results).set_index(\"Timestamp\")\n",
    "print(res_df)\n",
    "\n",
    "# --- Opsiyonel: sonuçları CSV’ye aktar ---\n",
    "# res_df.to_csv(\"prediction_vs_actual.csv\")\n"
   ]
  },
  {
   "cell_type": "code",
   "execution_count": null,
   "id": "bca4fb4f-a2e9-427c-ba77-d6a9940ae4f0",
   "metadata": {},
   "outputs": [],
   "source": []
  }
 ],
 "metadata": {
  "kernelspec": {
   "display_name": "Python 3 (ipykernel)",
   "language": "python",
   "name": "python3"
  },
  "language_info": {
   "codemirror_mode": {
    "name": "ipython",
    "version": 3
   },
   "file_extension": ".py",
   "mimetype": "text/x-python",
   "name": "python",
   "nbconvert_exporter": "python",
   "pygments_lexer": "ipython3",
   "version": "3.12.7"
  }
 },
 "nbformat": 4,
 "nbformat_minor": 5
}
